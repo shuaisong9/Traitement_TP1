{
 "cells": [
  {
   "cell_type": "markdown",
   "metadata": {},
   "source": [
    "# TP 1 - Séance I\n",
    "## Qualité d'image"
   ]
  },
  {
   "cell_type": "code",
   "execution_count": null,
   "metadata": {},
   "outputs": [],
   "source": [
    "# Importe les modules qui seront utilisé dans le laboratoire.\n",
    "import numpy as np\n",
    "from IPython.display import clear_output\n",
    "import matplotlib.pyplot as plt\n",
    "from matplotlib.pyplot import imread\n",
    "%matplotlib inline\n",
    "# Étend la taille des figures\n",
    "plt.rcParams[\"figure.figsize\"] = (12, 7)"
   ]
  },
  {
   "cell_type": "markdown",
   "metadata": {},
   "source": [
    "# Exercice I (7 points): Étude de la résolution\n",
    "## Mesure de la résolution spatiale"
   ]
  },
  {
   "cell_type": "markdown",
   "metadata": {},
   "source": [
    "**1.** Ouvrez et affichez l'image ```resolution.png```."
   ]
  },
  {
   "cell_type": "code",
   "execution_count": null,
   "metadata": {
    "tags": []
   },
   "outputs": [],
   "source": []
  },
  {
   "cell_type": "markdown",
   "metadata": {},
   "source": [
    "**2.** La largeur du cube central est de 10 cm. En déduire la largeur d'un pixel en millimètre."
   ]
  },
  {
   "cell_type": "code",
   "execution_count": null,
   "metadata": {
    "tags": []
   },
   "outputs": [],
   "source": [
    "# Les coordonnées des coins supérieurs du carré sont: (160,151) et (356, 157)."
   ]
  },
  {
   "cell_type": "markdown",
   "metadata": {},
   "source": [
    "**3.** Définissez la méthode ```downsample(img, f)```:"
   ]
  },
  {
   "cell_type": "code",
   "execution_count": null,
   "metadata": {},
   "outputs": [],
   "source": [
    "def downsample(img, f):\n",
    "    \"\"\" Sous-échantillone l'image img d'un facteur f\n",
    "    @param img  L'image à sous-échantilloner.\n",
    "    @param f    Le facteur de sous-échantillonage (un pixel sur f est conservé).\n",
    "    @return     L'image sous-échantillonée: sa taille est celle d'img divisée par f.\n",
    "    \"\"\"\n",
    "    #return ..."
   ]
  },
  {
   "cell_type": "markdown",
   "metadata": {},
   "source": [
    "**4.** Affichez les images sous-échantillonnées avec ```f=2,5,8```. Comment évolue la largeur d'un pixel lors du sous-échantillonage?"
   ]
  },
  {
   "cell_type": "code",
   "execution_count": null,
   "metadata": {},
   "outputs": [],
   "source": []
  },
  {
   "cell_type": "markdown",
   "metadata": {},
   "source": [
    "**5.** Affichez les profils d'intensités le long d'axes perpendiculaires aux mires. Quelle est l'épaisseur de la plus petite mire observable?"
   ]
  },
  {
   "cell_type": "code",
   "execution_count": null,
   "metadata": {},
   "outputs": [],
   "source": [
    "# Pour les deux profils vous pouvez prendre: y=201:341, x=200 et y=190, x=206:346."
   ]
  },
  {
   "cell_type": "markdown",
   "metadata": {},
   "source": [
    "**6.** Discutez de la relation entre la résolution de l'image (largeur d'un pixel) et la taille du plus petit objet observable. Sachant la résolution, quelle est la taille minimale observable? Est-elle garantie?\n"
   ]
  },
  {
   "cell_type": "markdown",
   "metadata": {},
   "source": [
    "## Mesure de l'épaisseur de coupe"
   ]
  },
  {
   "cell_type": "markdown",
   "metadata": {},
   "source": [
    "**7.** Affichez les profils d'intensités des 4 rampes et mesurer graphiquement la largeur des gaussiennes à mi-hauteur \n",
    "\n",
    "*Indice*: Vous pouvez normaliser le signal sur une gamme d’intensité plus facile à manipuler. Vous pouvez ensuite tracer une ligne horizontale pour vous aider à mesurer la largeur à mi-hauteur. Affichez les grilles sur les graphiques, puis augmentez la fréquence des ticks et la taille de l'image pour faciliter la mesure."
   ]
  },
  {
   "cell_type": "code",
   "execution_count": null,
   "metadata": {},
   "outputs": [],
   "source": [
    "# Pour les coordonnées des profils on peut prendre:\n",
    "# y=140; x=230:290\n",
    "# y=230:290; x=365\n",
    "# y=360; x=210:270\n",
    "# y=215:275; x=147\n"
   ]
  },
  {
   "cell_type": "markdown",
   "metadata": {
    "tags": []
   },
   "source": [
    "**8.** L'épaisseur de la coupe est donnée par $e=\\tan(14^\\circ) \\times FWHM$ où $FWHM$ est la largeur à mi-hauteur en mm.\n",
    "Sachant que les paramètres de l'IRM indiquent une épaisseur de coupe théorique de $2\\pm0.2$ mm, passerait-il le controle qualité?"
   ]
  },
  {
   "cell_type": "code",
   "execution_count": null,
   "metadata": {
    "tags": []
   },
   "outputs": [],
   "source": []
  },
  {
   "cell_type": "markdown",
   "metadata": {},
   "source": [
    "# Exercice II (6 points): Analyse du contraste et du bruit\n",
    "## Mesure du contraste"
   ]
  },
  {
   "cell_type": "markdown",
   "metadata": {},
   "source": [
    "**1.** Chargez  et affichez l'image ```contraste.png```."
   ]
  },
  {
   "cell_type": "code",
   "execution_count": null,
   "metadata": {},
   "outputs": [],
   "source": []
  },
  {
   "cell_type": "markdown",
   "metadata": {},
   "source": [
    "**2.** Chargez  et affichez les 4 matrices ```vial1.npy```, ```vial2.npy```, ```vial3.npy```, ```vial4.npy```."
   ]
  },
  {
   "cell_type": "code",
   "execution_count": null,
   "metadata": {},
   "outputs": [],
   "source": [
    "# Utilisez np.load('fichier.npy') pour charger une matrice numpy."
   ]
  },
  {
   "cell_type": "markdown",
   "metadata": {},
   "source": [
    "**3.** Définissez et affichez le masque du fond du fantôme qui est constitué du carré central privé des 4 ampoules.\n",
    "Pour le carré central vous pourrez prendre la région: \n",
    "\n",
    "$174\\leq y<330$ et $178\\leq x<331$"
   ]
  },
  {
   "cell_type": "code",
   "execution_count": null,
   "metadata": {},
   "outputs": [],
   "source": [
    "# "
   ]
  },
  {
   "cell_type": "markdown",
   "metadata": {},
   "source": [
    "**4.** Calculez l'intensité moyenne sur ces 4 régions et sur le fond du fantôme. En déduire le contraste entre chaque ampoule et le fond du fantôme."
   ]
  },
  {
   "cell_type": "code",
   "execution_count": null,
   "metadata": {
    "tags": []
   },
   "outputs": [],
   "source": [
    "# Pour extraire la valeur des pixels d'une image appartenant à un masque on utilise la syntaxe:\n",
    "# image[masque]  (où image et masque on la même taille et où masque est une matrice booléenne)"
   ]
  },
  {
   "cell_type": "markdown",
   "metadata": {},
   "source": [
    "## Mesure du rapport signal/bruit"
   ]
  },
  {
   "cell_type": "markdown",
   "metadata": {},
   "source": [
    "**5.** Chargez et affichez l'image ```bruit.png```. (Conservez les axes et afficher une grille)."
   ]
  },
  {
   "cell_type": "code",
   "execution_count": null,
   "metadata": {},
   "outputs": [],
   "source": []
  },
  {
   "cell_type": "markdown",
   "metadata": {},
   "source": [
    "**6.** En vous aidant de l'image affichée à la question précédente, sélectionner grossièrement la région d'intéret et les 4 zones de fond. \n",
    "\n",
    "Puis calculez le rapport signal bruit en décibel."
   ]
  },
  {
   "cell_type": "code",
   "execution_count": null,
   "metadata": {
    "tags": []
   },
   "outputs": [],
   "source": []
  },
  {
   "cell_type": "markdown",
   "metadata": {
    "tags": []
   },
   "source": [
    "**7.** Que représente le rapport signal/bruit? Est-il préférable d'avoir un SNR faible ou fort?\n",
    "\n"
   ]
  },
  {
   "cell_type": "markdown",
   "metadata": {},
   "source": [
    "# Exercice III (bonus, 1.5 points)\n",
    "## Comparaison d'imageries intra-vasculaires"
   ]
  },
  {
   "cell_type": "markdown",
   "metadata": {},
   "source": [
    "**1.** Chargez et affichez les deux images ```echo.png``` et ```oct.png```. Convertissez l'image OCT en niveau de gris en sélectionnant son canal rouge.\n",
    "\n",
    "\n",
    "Affichez les portions des images concernées par les masques ```echo_lum.npy```, ```echo_paroi.npy```, ```oct_lum.npy``` et ```oct_paroi.npy``` (en multipliant l'image par son masque)."
   ]
  },
  {
   "cell_type": "code",
   "execution_count": null,
   "metadata": {},
   "outputs": [],
   "source": []
  },
  {
   "cell_type": "markdown",
   "metadata": {},
   "source": [
    "**2.** Calculez le contraste entre la paroi et la lumière du vaisseau ainsi que le SNR des deux modalités."
   ]
  },
  {
   "cell_type": "code",
   "execution_count": null,
   "metadata": {
    "tags": []
   },
   "outputs": [],
   "source": [
    "# Si les aires de région d'intéret et de fond sont différentes, on prend l'aire du fond dans la formule du SNR."
   ]
  },
  {
   "cell_type": "markdown",
   "metadata": {},
   "source": [
    "**3.** Discutez du choix entre l'OCT et de l'echocardiographie pour une simple mesure du diamètre de la lumière du vaisseau.\n"
   ]
  }
 ],
 "metadata": {
  "interpreter": {
   "hash": "6eae95e61e45103d47c2449a6225f34e765643dcf0e0be1d0b6696b4edb425de"
  },
  "kernelspec": {
   "display_name": "Python (tpGBM)",
   "language": "python",
   "name": "tpgbm"
  },
  "language_info": {
   "codemirror_mode": {
    "name": "ipython",
    "version": 3
   },
   "file_extension": ".py",
   "mimetype": "text/x-python",
   "name": "python",
   "nbconvert_exporter": "python",
   "pygments_lexer": "ipython3",
   "version": "3.8.11"
  },
  "varInspector": {
   "cols": {
    "lenName": 16,
    "lenType": 16,
    "lenVar": 40
   },
   "kernels_config": {
    "python": {
     "delete_cmd_postfix": "",
     "delete_cmd_prefix": "del ",
     "library": "var_list.py",
     "varRefreshCmd": "print(var_dic_list())"
    },
    "r": {
     "delete_cmd_postfix": ") ",
     "delete_cmd_prefix": "rm(",
     "library": "var_list.r",
     "varRefreshCmd": "cat(var_dic_list()) "
    }
   },
   "types_to_exclude": [
    "module",
    "function",
    "builtin_function_or_method",
    "instance",
    "_Feature"
   ],
   "window_display": false
  }
 },
 "nbformat": 4,
 "nbformat_minor": 2
}
