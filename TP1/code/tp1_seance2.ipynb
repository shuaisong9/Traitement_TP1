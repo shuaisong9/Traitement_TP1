{
 "cells": [
  {
   "cell_type": "markdown",
   "metadata": {},
   "source": [
    "# TP 1 - Séance II\n",
    "## Analyse de signaux 1D"
   ]
  },
  {
   "cell_type": "code",
   "execution_count": null,
   "metadata": {},
   "outputs": [],
   "source": [
    "# Importe les modules qui seront utilisé dans le laboratoire.\n",
    "import numpy as np\n",
    "from numpy.fft import fft\n",
    "from IPython.display import clear_output\n",
    "import matplotlib.pyplot as plt\n",
    "from matplotlib.pyplot import imread\n",
    "%matplotlib inline\n",
    "# Étend la taille des figures\n",
    "plt.rcParams[\"figure.figsize\"] = (12, 7)"
   ]
  },
  {
   "cell_type": "markdown",
   "metadata": {},
   "source": [
    "# Exercice IV (7 points)\n",
    "## FFT d'un signal théorique"
   ]
  },
  {
   "cell_type": "markdown",
   "metadata": {},
   "source": [
    "Soient les trois signaux suivant:\n",
    "$$Y_1(t)=7\\cos(2\\pi\\times6t)$$\n",
    "$$Y_2(t)=4\\cos(2\\pi\\times15t + \\frac{3\\pi}{2})$$\n",
    "$$Y_3(t)=-3\\cos(2\\pi\\times30t)$$\n",
    "\n",
    "**1.** Donnez l'amplitude, la fréquence et la phase de chacun de ces signaux."
   ]
  },
  {
   "cell_type": "markdown",
   "metadata": {},
   "source": [
    "Ces signaux sont échantillonés à la fréquence $F_e = 120 \\text{ Hz}$ pour $0 \\leq t \\leq 1$.\n",
    "\n",
    "**2.** Affichez les trois signaux superposés sur un même graphe."
   ]
  },
  {
   "cell_type": "code",
   "execution_count": null,
   "metadata": {},
   "outputs": [],
   "source": [
    "# Attention! np.linspace(0, 1, Fe) ne donne pas une fréquence d'échantillonage de 1/Fe mais de 1/(Fe-1).\n",
    "# Utilisez plutôt np.arange.\n"
   ]
  },
  {
   "cell_type": "markdown",
   "metadata": {},
   "source": [
    "**3.** Affichez la somme des signaux $S(t)=Y_1(t)+Y_2(t)+Y_3(t)$. Déterminez graphiquement la période du signal S."
   ]
  },
  {
   "cell_type": "code",
   "execution_count": null,
   "metadata": {},
   "outputs": [],
   "source": []
  },
  {
   "cell_type": "markdown",
   "metadata": {},
   "source": [
    "**4.** Affichez le module et la phase de la FFT des signaux $Y_1(t)$, $Y_2(t)$ et $Y_3(t)$ entre 0 et 60Hz.\n",
    "Vérifiez que l'amplitude, la fréquence et la phase des signaux correspondent bien aux valeurs attendues.\n",
    "\n",
    "(Vous pouvez encapsuler le code de calcul et d'affichage de la fft dans une fonction.)"
   ]
  },
  {
   "cell_type": "code",
   "execution_count": null,
   "metadata": {},
   "outputs": [],
   "source": [
    "# La fft se calcule avec:  y = fft(Y) / len(Y). \n",
    "# Les raies calculées correspondent aux fréquences comprises entre 0 (incluse) et Fe (exclue) avec un pas de Fe/len(Y).\n",
    "# Leur module est donné par: np.abs(y) et leur phase (en radians) par: np.angle(y)"
   ]
  },
  {
   "cell_type": "markdown",
   "metadata": {
    "tags": []
   },
   "source": [
    "**5.** De la même manière affichez le spectre de $S$. Quelle propriété de la transformée de Fourier est mise en évidence par cette expérience?"
   ]
  },
  {
   "cell_type": "code",
   "execution_count": null,
   "metadata": {},
   "outputs": [],
   "source": []
  },
  {
   "cell_type": "markdown",
   "metadata": {},
   "source": [
    "**6.** Pourquoi est-ce pertinent de tracer le spectre entre 0 et 60Hz plutôt qu'entre 0 et 120Hz?"
   ]
  },
  {
   "cell_type": "markdown",
   "metadata": {},
   "source": [
    "**7.** Si on retardait $Y_1(t)$ d'un quart de seconde de sorte que $Y_1'(t)=Y_1(t+\\frac{1}{4})$, comment évoluerait le module du spectre? Même question pour sa phase (à la fréquence du signal)?"
   ]
  },
  {
   "cell_type": "markdown",
   "metadata": {},
   "source": [
    "On échantillone maintenant ces signaux avec une fréquence d'échantillonage $F_{e2}=40$ Hz.\n",
    "\n",
    "**8.** Tracez à nouveau $S$ en temporel en le superposant au signal échantilloné à 120Hz affiché en pointillé.\n",
    "\n",
    "Tracez le module du nouveau spectre de S entre 0 et $F_{e2}=40$ Hz."
   ]
  },
  {
   "cell_type": "code",
   "execution_count": null,
   "metadata": {},
   "outputs": [],
   "source": []
  },
  {
   "cell_type": "markdown",
   "metadata": {},
   "source": [
    "**9.** En étudiant le nouveau spectre, lequel des 3 signaux a été altéré par le sous-échantillonage? Pourquoi?"
   ]
  },
  {
   "cell_type": "markdown",
   "metadata": {
    "tags": []
   },
   "source": [
    "**10.** Quelle est la fréquence d'échantillonage minimale pour assurer une bonne mesure de ces signaux?"
   ]
  }
 ],
 "metadata": {
  "interpreter": {
   "hash": "6eae95e61e45103d47c2449a6225f34e765643dcf0e0be1d0b6696b4edb425de"
  },
  "kernelspec": {
   "display_name": "Python (tpGBM)",
   "language": "python",
   "name": "tpgbm"
  },
  "language_info": {
   "codemirror_mode": {
    "name": "ipython",
    "version": 3
   },
   "file_extension": ".py",
   "mimetype": "text/x-python",
   "name": "python",
   "nbconvert_exporter": "python",
   "pygments_lexer": "ipython3",
   "version": "3.8.11"
  },
  "varInspector": {
   "cols": {
    "lenName": 16,
    "lenType": 16,
    "lenVar": 40
   },
   "kernels_config": {
    "python": {
     "delete_cmd_postfix": "",
     "delete_cmd_prefix": "del ",
     "library": "var_list.py",
     "varRefreshCmd": "print(var_dic_list())"
    },
    "r": {
     "delete_cmd_postfix": ") ",
     "delete_cmd_prefix": "rm(",
     "library": "var_list.r",
     "varRefreshCmd": "cat(var_dic_list()) "
    }
   },
   "types_to_exclude": [
    "module",
    "function",
    "builtin_function_or_method",
    "instance",
    "_Feature"
   ],
   "window_display": false
  }
 },
 "nbformat": 4,
 "nbformat_minor": 2
}
